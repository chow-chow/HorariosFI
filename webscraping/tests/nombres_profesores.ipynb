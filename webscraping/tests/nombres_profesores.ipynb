{
 "cells": [
  {
   "cell_type": "markdown",
   "metadata": {},
   "source": [
    "# NOMBRES DE PROFESORES DE LA FI-UNAM\n",
    "\n",
    "Este script extrae los nombres de los profesores activos de la FI.\n",
    "\n",
    "Se tiene que actualizar cada semestre, ya que es muy probable que los profesores cambien de semestre a semestre."
   ]
  },
  {
   "cell_type": "code",
   "execution_count": 46,
   "metadata": {},
   "outputs": [],
   "source": [
    "import os\n",
    "import pandas as pd\n",
    "from collections import Counter"
   ]
  },
  {
   "cell_type": "code",
   "execution_count": 39,
   "metadata": {},
   "outputs": [],
   "source": [
    "LETTERS = ['A', 'B', 'C', 'D', 'E', 'F', 'G', 'H', 'I', 'J', 'K', 'L', 'M', 'N', '%D1', 'O', 'P', 'Q', 'R', 'S', 'T', 'U', 'V', 'W', 'X', 'Y', 'Z']\n",
    "\n",
    "BASE_URL = 'https://www.ingenieria.unam.mx/nuestra_facultad/informacion/planta_busqueda.php?letra='"
   ]
  },
  {
   "cell_type": "code",
   "execution_count": 40,
   "metadata": {},
   "outputs": [
    {
     "name": "stdout",
     "output_type": "stream",
     "text": [
      "Obteniendo nombres de profesores que empiezan con la letra A\n",
      "Obteniendo nombres de profesores que empiezan con la letra B\n",
      "Obteniendo nombres de profesores que empiezan con la letra C\n",
      "Obteniendo nombres de profesores que empiezan con la letra D\n",
      "Obteniendo nombres de profesores que empiezan con la letra E\n",
      "Obteniendo nombres de profesores que empiezan con la letra F\n",
      "Obteniendo nombres de profesores que empiezan con la letra G\n",
      "Obteniendo nombres de profesores que empiezan con la letra H\n",
      "Obteniendo nombres de profesores que empiezan con la letra I\n",
      "Obteniendo nombres de profesores que empiezan con la letra J\n",
      "Obteniendo nombres de profesores que empiezan con la letra K\n",
      "Obteniendo nombres de profesores que empiezan con la letra L\n",
      "Obteniendo nombres de profesores que empiezan con la letra M\n",
      "Obteniendo nombres de profesores que empiezan con la letra N\n",
      "Obteniendo nombres de profesores que empiezan con la letra %D1\n",
      "Obteniendo nombres de profesores que empiezan con la letra O\n",
      "Obteniendo nombres de profesores que empiezan con la letra P\n",
      "Obteniendo nombres de profesores que empiezan con la letra Q\n",
      "Obteniendo nombres de profesores que empiezan con la letra R\n",
      "Obteniendo nombres de profesores que empiezan con la letra S\n",
      "Obteniendo nombres de profesores que empiezan con la letra T\n",
      "Obteniendo nombres de profesores que empiezan con la letra U\n",
      "Obteniendo nombres de profesores que empiezan con la letra V\n",
      "Obteniendo nombres de profesores que empiezan con la letra W\n",
      "Obteniendo nombres de profesores que empiezan con la letra X\n",
      "Obteniendo nombres de profesores que empiezan con la letra Y\n",
      "Obteniendo nombres de profesores que empiezan con la letra Z\n"
     ]
    }
   ],
   "source": [
    "nombres_profesores = pd.DataFrame()\n",
    "\n",
    "for letter in LETTERS:\n",
    "  print(f\"Obteniendo nombres de profesores que empiezan con la letra {letter}\")\n",
    "  url = BASE_URL + letter\n",
    "  html_tables = pd.read_html(url, header=0)\n",
    "  if len(html_tables) > 1:\n",
    "    df = html_tables[1]\n",
    "    nombres_profesores = pd.concat([nombres_profesores, df], ignore_index=True)"
   ]
  },
  {
   "cell_type": "code",
   "execution_count": 45,
   "metadata": {},
   "outputs": [
    {
     "name": "stdout",
     "output_type": "stream",
     "text": [
      "1         ABELA POSADA RICARDO FERNANDO\n",
      "3            ABREGO BLANCAS OMAR EDSIEL\n",
      "4                 ACEVEDO LOPEZ GUIOMAR\n",
      "5          ACEVES BUENDIA JOSE DE JESUS\n",
      "7             ACOSTA BERNAL LUIS JAVIER\n",
      "                     ...               \n",
      "2350              ZEPEDA PUEBLA ROBERTO\n",
      "2352    ZERECERO GALICIA SERGIO EDUARDO\n",
      "2354        ZUÑIGA ACEVEDO FERNANDO SET\n",
      "2355               ZUÑIGA BARRAGAN HUGO\n",
      "2359       ZUÑIGA MEDEL MARIA ALEJANDRA\n",
      "Name: Académico, Length: 1248, dtype: object\n"
     ]
    }
   ],
   "source": [
    "filtered_df = nombres_profesores.loc[nombres_profesores['Nombramiento'] == 'PROF ASIG A']\n",
    "nombres = filtered_df['Académico']\n",
    "nombres = nombres.drop_duplicates()"
   ]
  },
  {
   "cell_type": "code",
   "execution_count": 42,
   "metadata": {},
   "outputs": [
    {
     "name": "stdout",
     "output_type": "stream",
     "text": [
      "Se guardaron los nombres de los profesores en /home/chow-u/projects/horarios-fi/webscraping/results/nombres_profesores.txt\n"
     ]
    }
   ],
   "source": [
    "output_dir = os.path.join(os.path.dirname(os.getcwd()), 'results')\n",
    "os.makedirs(output_dir, exist_ok=True)\n",
    "\n",
    "output_file = os.path.join(output_dir, 'nombres_profesores.txt')\n",
    "\n",
    "with open(output_file, 'w') as f:\n",
    "  for nombre in nombres:\n",
    "    f.write(nombre + '\\n')\n",
    "\n",
    "print(f\"Se guardaron los nombres de los profesores en {output_file}\")"
   ]
  },
  {
   "cell_type": "code",
   "execution_count": 48,
   "metadata": {},
   "outputs": [
    {
     "name": "stdout",
     "output_type": "stream",
     "text": [
      "Se encontraron apellidos duplicados:\n",
      "45\n",
      "('BARRERA', 'DEL')\n",
      "('CARMONA', 'PAREDES')\n",
      "('CASTILLO', 'HERNANDEZ')\n",
      "('DE', 'JESUS')\n",
      "('DE', 'LA')\n",
      "('DIAZ', 'GARCIA')\n",
      "('DIAZ', 'SALGADO')\n",
      "('ESCALANTE', 'ESTRADA')\n",
      "('FIGUEROA', 'PALACIOS')\n",
      "('FLORES', 'GARCIA')\n",
      "('FLORES', 'GOMEZ')\n",
      "('FRANCO', 'DOMINGUEZ')\n",
      "('GARCIA', 'GARCIA')\n",
      "('GARCIA', 'ROMERO')\n",
      "('GARCIA', 'SANCHEZ')\n",
      "('GONZALEZ', 'PACHECO')\n",
      "('HERNANDEZ', 'ALVAREZ')\n",
      "('HERNANDEZ', 'HERNANDEZ')\n",
      "('HERNANDEZ', 'ITZCUA')\n",
      "('HERNANDEZ', 'LOPEZ')\n",
      "('HERNANDEZ', 'ROMERO')\n",
      "('HUERTA', 'CRUZ')\n",
      "('LOPEZ', 'GARCIA')\n",
      "('LOPEZ', 'HERNANDEZ')\n",
      "('LOPEZ', 'MOLINA')\n",
      "('LOPEZ', 'RODRIGUEZ')\n",
      "('MALDONADO', 'SUSANO')\n",
      "('MANCILLA', 'URREA')\n",
      "('MARTINEZ', 'LOPEZ')\n",
      "('MARTINEZ', 'ROSAS')\n",
      "('PANIAGUA', 'LOVERA')\n",
      "('PEREZ', 'DE')\n",
      "('PEREZ', 'GARCIA')\n",
      "('PEREZ', 'GOMEZ')\n",
      "('RAMIREZ', 'CRUZ')\n",
      "('REYES', 'GARCIA')\n",
      "('RINCON', 'GOMEZ')\n",
      "('RODRIGUEZ', 'GARCIA')\n",
      "('ROMERO', 'HERNANDEZ')\n",
      "('SANCHEZ', 'PEREZ')\n",
      "('SANCHEZ', 'REYES')\n",
      "('SANDOVAL', 'RODRIGUEZ')\n",
      "('SERRALDE', 'GONZALEZ')\n",
      "('VAZQUEZ', 'FUENTES')\n",
      "('VEGA', 'GONZALEZ')\n"
     ]
    }
   ],
   "source": [
    "apellidos = nombres.str.split().str[:2]\n",
    "contador = Counter(tuple(x) for x in apellidos)\n",
    "duplicados = [apellido for apellido, count in contador.items() if count > 1]\n",
    "\n",
    "if duplicados:\n",
    "  print(\"Se encontraron apellidos duplicados:\")\n",
    "  print(len(duplicados))\n",
    "  for apellido in duplicados:\n",
    "    print(apellido)\n",
    "else:\n",
    "  print(\"No se encontraron apellidos duplicados\")"
   ]
  },
  {
   "cell_type": "code",
   "execution_count": null,
   "metadata": {},
   "outputs": [],
   "source": []
  }
 ],
 "metadata": {
  "kernelspec": {
   "display_name": "selenium",
   "language": "python",
   "name": "python3"
  },
  "language_info": {
   "codemirror_mode": {
    "name": "ipython",
    "version": 3
   },
   "file_extension": ".py",
   "mimetype": "text/x-python",
   "name": "python",
   "nbconvert_exporter": "python",
   "pygments_lexer": "ipython3",
   "version": "3.9.19"
  }
 },
 "nbformat": 4,
 "nbformat_minor": 2
}
