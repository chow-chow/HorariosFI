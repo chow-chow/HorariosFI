{
 "cells": [
  {
   "cell_type": "code",
   "execution_count": null,
   "metadata": {},
   "outputs": [],
   "source": [
    "import os\n",
    "from selenium import webdriver\n",
    "from selenium.webdriver.common.by import By\n",
    "from selenium.webdriver.common.keys import Keys\n",
    "from selenium.webdriver.support.ui import WebDriverWait\n",
    "from selenium.webdriver.support import expected_conditions as EC\n",
    "from selenium.common.exceptions import TimeoutException, NoSuchElementException"
   ]
  },
  {
   "cell_type": "code",
   "execution_count": null,
   "metadata": {},
   "outputs": [],
   "source": [
    "results_dir = os.path.join(os.path.dirname(os.getcwd()), 'results')\n",
    "if os.path.exists(results_dir):\n",
    "    names_file = os.path.join(results_dir, 'nombres_profesores.txt')"
   ]
  },
  {
   "cell_type": "code",
   "execution_count": null,
   "metadata": {},
   "outputs": [],
   "source": [
    "chrome_options = webdriver.ChromeOptions()\n",
    "chrome_options.add_argument('--headless')\n",
    "chrome_options.add_argument('--disable-gpu')\n",
    "chrome_options.add_argument('--disable-extensions')\n",
    "chrome_options.add_argument('--window-size=1920,1080')\n",
    "\n",
    "with webdriver.Chrome(options=chrome_options) as driver:\n",
    "  driver.get('https://www.misprofesores.com/escuelas/Facultad-de-Ingenieria_1511#google_vignette')\n",
    "  try:\n",
    "    modal = WebDriverWait(driver, 10).until(\n",
    "      EC.visibility_of_element_located((By.ID, 'dismiss-button'))\n",
    "    )\n",
    "    modal.click()\n",
    "    print('Modal closed')\n",
    "  except TimeoutException:\n",
    "    print('No modal found')\n",
    "\n",
    "  search = driver.find_element(By.XPATH, '//*[aria-controls=\"profesores\"]')\n",
    "\n",
    "  with(names_file, 'r') as names:\n",
    "    for name in names:\n",
    "      search.clear()\n",
    "      search.send_keys(name)\n",
    "      search.send_keys(Keys.RETURN)\n",
    "      # TODO: Obtener la calificación del profesor y número de comentarios"
   ]
  }
 ],
 "metadata": {
  "language_info": {
   "name": "python"
  }
 },
 "nbformat": 4,
 "nbformat_minor": 2
}
