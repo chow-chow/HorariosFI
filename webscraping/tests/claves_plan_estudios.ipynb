{
 "cells": [
  {
   "cell_type": "markdown",
   "metadata": {},
   "source": [
    "# CLAVES PLANES DE ESTUDIOS FI-UNAM\n",
    "\n",
    "Este script extrae las claves de los planes de estudio de la Facultad de Ingeniería de la UNAM.\n",
    "\n",
    "No requiere una gran frecuencia de actualización ya que no se agregan nuevas carreras con frecuencia y las claves de los planes de estudio son estables."
   ]
  },
  {
   "cell_type": "code",
   "execution_count": 132,
   "metadata": {},
   "outputs": [],
   "source": [
    "import os\n",
    "import csv\n",
    "import requests\n",
    "import pandas as pd\n",
    "from bs4 import BeautifulSoup"
   ]
  },
  {
   "cell_type": "code",
   "execution_count": 144,
   "metadata": {},
   "outputs": [
    {
     "name": "stdout",
     "output_type": "stream",
     "text": [
      "[107, 108, 109, 110, 111, 112, 113, 114, 115, 117, 124, 125, 135, 137, 139, 107, 108, 109, 110, 111, 112, 113, 114, 115, 117, 124, 125]\n"
     ]
    }
   ],
   "source": [
    "res = requests.get('http://escolar.ingenieria.unam.mx/mapas/')\n",
    "parse = BeautifulSoup(res.text, 'html.parser')\n",
    "degree_programs = parse.find_all('td', class_='tabla_info_extra_bco', align='center')\n",
    "\n",
    "degree_programs = [int(degree_program.text) for degree_program in degree_programs]\n",
    "\n",
    "print(degree_programs)"
   ]
  },
  {
   "cell_type": "code",
   "execution_count": 134,
   "metadata": {},
   "outputs": [
    {
     "name": "stdout",
     "output_type": "stream",
     "text": [
      "Obteniendo los datos para la carrera con clave: 107\n",
      "Obteniendo los datos para la carrera con clave: 108\n",
      "Obteniendo los datos para la carrera con clave: 109\n",
      "Obteniendo los datos para la carrera con clave: 110\n",
      "Obteniendo los datos para la carrera con clave: 111\n",
      "Obteniendo los datos para la carrera con clave: 112\n",
      "Obteniendo los datos para la carrera con clave: 113\n",
      "Obteniendo los datos para la carrera con clave: 114\n",
      "Obteniendo los datos para la carrera con clave: 115\n",
      "Obteniendo los datos para la carrera con clave: 117\n",
      "Obteniendo los datos para la carrera con clave: 124\n",
      "Obteniendo los datos para la carrera con clave: 125\n",
      "Obteniendo los datos para la carrera con clave: 135\n",
      "Obteniendo los datos para la carrera con clave: 137\n",
      "Obteniendo los datos para la carrera con clave: 139\n"
     ]
    }
   ],
   "source": [
    "data = []\n",
    "\n",
    "for cve in degree_programs:\n",
    "  print(f'Obteniendo los datos para la carrera con clave: {cve}')\n",
    "  response = requests.get(f'http://escolar.ingenieria.unam.mx/mapas/detalle/?lacarrera={cve}&sumapa=2023')\n",
    "\n",
    "  soup = BeautifulSoup(response.text, 'lxml')\n",
    "\n",
    "  td_element = soup.find('td', class_='tabla_info_extra_bco')\n",
    "\n",
    "  tr_element = td_element.find_parent()\n",
    "\n",
    "  next_tr_siblings = tr_element.find_next_siblings()\n",
    "\n",
    "  for tr_sibling in next_tr_siblings:\n",
    "      tds = tr_sibling.find_all('td')\n",
    "      if len(tds) <= 2:\n",
    "          row_data = [str(cve), tds[0].get_text(strip=True), tds[1].get_text(strip=True)]\n",
    "          data.append(row_data)"
   ]
  },
  {
   "cell_type": "code",
   "execution_count": 135,
   "metadata": {},
   "outputs": [
    {
     "name": "stdout",
     "output_type": "stream",
     "text": [
      "[['107', '2232', 'Trayectoria inicial de la carrera'], ['107', '4318', 'Construcción'], ['107', '4319', 'Estructuras'], ['107', '4320', 'Geotecnia'], ['107', '4321', 'Hidráulica'], ['107', '4322', 'Ingeniería Sanitaria y Ambiental'], ['107', '4323', 'Sistemas, Planeación y Transporte'], ['108', '2221', 'Trayectoria única sin módulos de salida'], ['109', '2220', 'Trayectoria inicial de la carrera'], ['109', '4289', 'Control y Robótica'], ['109', '4290', 'Eléctrica de Potencia'], ['109', '4291', 'Electrónica'], ['109', '4292', 'Ingeniería Biomédica'], ['109', '4293', 'Sistemas Energéticos'], ['110', '2223', 'Trayectoria inicial de la carrera'], ['110', '4299', 'Ingeniería de Software'], ['110', '4300', 'Organización de Sistemas Computacionales'], ['110', '4301', 'Tecnologías de la Información y Comunicación'], ['111', '2222', 'Trayectoria inicial de la carrera'], ['111', '4294', 'Ingeniería de Sistemas Espaciales y sus Aplicaciones'], ['111', '4295', 'Política, Regulación y Normalización de las Telecomunicaciones'], ['111', '4296', 'Redes de Telecomunicaciones'], ['111', '4297', 'Señales y Sistemas de Radiocomunicación'], ['111', '4298', 'Tecnologías de Radiofrecuencia, Ópticas y Microondas'], ['112', '2228', 'Trayectoria inicial de la carrera'], ['112', '4309', 'Exploración Minera'], ['112', '4310', 'Exploración Petrolera'], ['112', '4311', 'Geofísica Ambiental'], ['112', '4312', 'Geotecnia'], ['112', '4313', 'Hidrogeología'], ['112', '4314', 'Sismología'], ['113', '2231', 'Trayectoria única sin módulos de salida'], ['114', '2225', 'Trayectoria inicial de la carrera'], ['114', '4306', 'Dirección y Creación de Empresas'], ['114', '4307', 'Gestión de la Cadena de Suministros'], ['114', '4308', 'Producción y Manufactura'], ['115', '2224', 'Trayectoria inicial de la carrera'], ['115', '4302', 'Automatización'], ['115', '4303', 'Diseño'], ['115', '4304', 'Materiales y Manufactura'], ['115', '4305', 'Termofluidos'], ['117', '2229', 'Trayectoria única sin módulos de salida'], ['124', '2227', 'Trayectoria única sin módulos de salida'], ['125', '2226', 'Trayectoria única sin módulos de salida'], ['135', '2230', 'Trayectoria inicial de la carrera'], ['135', '4315', 'Biomecánica'], ['135', '4316', 'Instrumentación Biomédica'], ['135', '4317', 'Logística Hospitalaria'], ['137', '2233', 'Trayectoria inicial de la carrera'], ['137', '4324', 'Gestión Integral de Residuos Sólidos'], ['137', '4325', 'Ingeniería de la Calidad del Agua'], ['137', '4326', 'Ingeniería de la Calidad del Aire'], ['137', '4327', 'Manejo de Materiales y Residuos Peligrosos'], ['137', '4328', 'Planeación y Gestión Ambiental'], ['139', '2234', 'Trayectoria inicial de la carrera'], ['139', '4329', 'Ingeniería Aeronáutica'], ['139', '4330', 'Ingeniería Espacial']]\n",
      "Archivo guardado en /home/chow-u/projects/horarios-fi/webscraping/results/claves_plan_estudios.csv\n"
     ]
    }
   ],
   "source": [
    "output_dir = os.path.join(os.path.dirname(os.getcwd()), 'results')\n",
    "os.makedirs(output_dir, exist_ok=True)\n",
    "\n",
    "output_file = os.path.join(output_dir, 'claves_plan_estudios.csv')\n",
    "\n",
    "with open(output_file, 'w', encoding='utf-8') as file:\n",
    "  file.write('carrera,clave,plan\\n')\n",
    "  for row in data:\n",
    "    file.write(','.join(row) + '\\n')\n",
    "\n",
    "print(data)\n",
    "print(f'Archivo guardado en {output_file}')"
   ]
  }
 ],
 "metadata": {
  "kernelspec": {
   "display_name": "selenium",
   "language": "python",
   "name": "python3"
  },
  "language_info": {
   "codemirror_mode": {
    "name": "ipython",
    "version": 3
   },
   "file_extension": ".py",
   "mimetype": "text/x-python",
   "name": "python",
   "nbconvert_exporter": "python",
   "pygments_lexer": "ipython3",
   "version": "3.9.19"
  }
 },
 "nbformat": 4,
 "nbformat_minor": 2
}
